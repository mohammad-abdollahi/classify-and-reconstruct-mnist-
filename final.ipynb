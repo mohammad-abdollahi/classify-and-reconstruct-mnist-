{
  "nbformat": 4,
  "nbformat_minor": 0,
  "metadata": {
    "colab": {
      "name": "hoooosh.ipynb",
      "version": "0.3.2",
      "provenance": [],
      "collapsed_sections": []
    },
    "kernelspec": {
      "name": "python3",
      "display_name": "Python 3"
    },
    "accelerator": "GPU"
  },
  "cells": [
    {
      "cell_type": "code",
      "metadata": {
        "id": "46tsi3JD419C",
        "colab_type": "code",
        "outputId": "100fc49a-4270-42b8-e7d2-1e1389282469",
        "colab": {
          "base_uri": "https://localhost:8080/",
          "height": 1000
        }
      },
      "source": [
        "from __future__ import print_function\n",
        "import keras\n",
        "from keras.datasets import mnist\n",
        "from keras.models import Sequential\n",
        "from keras.layers import Dense, Dropout, Flatten,BatchNormalization\n",
        "from keras.layers import Conv2D, MaxPooling2D\n",
        "from keras import backend as K\n",
        "\n",
        "batch_size = 128\n",
        "num_classes = 10\n",
        "epochs = 40\n",
        "\n",
        "# input image dimensions\n",
        "img_rows, img_cols = 28, 28\n",
        "\n",
        "# the data, split between train and test sets\n",
        "(x_train, y_train), (x_test, y_test) = mnist.load_data()\n",
        "\n",
        "if K.image_data_format() == 'channels_first':\n",
        "    x_train = x_train.reshape(x_train.shape[0], 1, img_rows, img_cols)\n",
        "    x_test = x_test.reshape(x_test.shape[0], 1, img_rows, img_cols)\n",
        "    input_shape = (1, img_rows, img_cols)\n",
        "else:\n",
        "    x_train = x_train.reshape(x_train.shape[0], img_rows, img_cols, 1)\n",
        "    x_test = x_test.reshape(x_test.shape[0], img_rows, img_cols, 1)\n",
        "    input_shape = (img_rows, img_cols, 1)\n",
        "\n",
        "x_train = x_train.astype('float32')\n",
        "x_test = x_test.astype('float32')\n",
        "x_train /= 255\n",
        "x_test /= 255\n",
        "print('x_train shape:', x_train.shape)\n",
        "print(x_train.shape[0], 'train samples')\n",
        "print(x_test.shape[0], 'test samples')\n",
        "\n",
        "# convert class vectors to binary class matrices\n",
        "y_train = keras.utils.to_categorical(y_train, num_classes)\n",
        "y_test = keras.utils.to_categorical(y_test, num_classes)\n",
        "\n",
        "model = Sequential()\n",
        "model.add(BatchNormalization())\n",
        "model.add(Conv2D(32, kernel_size=(3, 3),\n",
        "                 activation='relu',\n",
        "                 input_shape=input_shape))\n",
        "model.add(Conv2D(64, (3, 3), activation='relu'))\n",
        "model.add(MaxPooling2D(pool_size=(2, 2)))\n",
        "model.add(Dropout(0.25))\n",
        "model.add(Flatten())\n",
        "model.add(Dense(128, activation='relu'))\n",
        "model.add(Dropout(0.5))\n",
        "model.add(Dense(num_classes, activation='softmax'))\n",
        "\n",
        "\n",
        "\n",
        "model.compile(loss=keras.losses.categorical_crossentropy,\n",
        "              optimizer=keras.optimizers.Adam(),\n",
        "              metrics=['accuracy'])\n",
        "\n",
        "model.build((None, img_rows, img_cols, 1))\n",
        "model.summary()\n",
        "\n",
        "history = model.fit(x_train, y_train,\n",
        "          batch_size=batch_size,\n",
        "          epochs=epochs,\n",
        "          verbose=1,\n",
        "          validation_data=(x_test, y_test))\n",
        "score = model.evaluate(x_test, y_test, verbose=0)\n",
        "print('Test loss:', score[0])\n",
        "print('Test accuracy:', score[1])\n"
      ],
      "execution_count": 69,
      "outputs": [
        {
          "output_type": "stream",
          "text": [
            "x_train shape: (60000, 28, 28, 1)\n",
            "60000 train samples\n",
            "10000 test samples\n",
            "_________________________________________________________________\n",
            "Layer (type)                 Output Shape              Param #   \n",
            "=================================================================\n",
            "batch_normalization_10 (Batc (None, 28, 28, 1)         4         \n",
            "_________________________________________________________________\n",
            "conv2d_22 (Conv2D)           (None, 26, 26, 32)        320       \n",
            "_________________________________________________________________\n",
            "conv2d_23 (Conv2D)           (None, 24, 24, 64)        18496     \n",
            "_________________________________________________________________\n",
            "max_pooling2d_11 (MaxPooling (None, 12, 12, 64)        0         \n",
            "_________________________________________________________________\n",
            "dropout_19 (Dropout)         (None, 12, 12, 64)        0         \n",
            "_________________________________________________________________\n",
            "flatten_10 (Flatten)         (None, 9216)              0         \n",
            "_________________________________________________________________\n",
            "dense_77 (Dense)             (None, 128)               1179776   \n",
            "_________________________________________________________________\n",
            "dropout_20 (Dropout)         (None, 128)               0         \n",
            "_________________________________________________________________\n",
            "dense_78 (Dense)             (None, 10)                1290      \n",
            "=================================================================\n",
            "Total params: 1,199,886\n",
            "Trainable params: 1,199,884\n",
            "Non-trainable params: 2\n",
            "_________________________________________________________________\n",
            "Train on 60000 samples, validate on 10000 samples\n",
            "Epoch 1/40\n",
            "60000/60000 [==============================] - 12s 200us/step - loss: 0.2148 - acc: 0.9343 - val_loss: 0.0439 - val_acc: 0.9851\n",
            "Epoch 2/40\n",
            "60000/60000 [==============================] - 10s 160us/step - loss: 0.0804 - acc: 0.9754 - val_loss: 0.0327 - val_acc: 0.9891\n",
            "Epoch 3/40\n",
            "60000/60000 [==============================] - 10s 161us/step - loss: 0.0589 - acc: 0.9819 - val_loss: 0.0336 - val_acc: 0.9880\n",
            "Epoch 4/40\n",
            "60000/60000 [==============================] - 10s 161us/step - loss: 0.0524 - acc: 0.9837 - val_loss: 0.0256 - val_acc: 0.9919\n",
            "Epoch 5/40\n",
            "60000/60000 [==============================] - 10s 166us/step - loss: 0.0438 - acc: 0.9861 - val_loss: 0.0316 - val_acc: 0.9902\n",
            "Epoch 6/40\n",
            "60000/60000 [==============================] - 10s 167us/step - loss: 0.0355 - acc: 0.9889 - val_loss: 0.0290 - val_acc: 0.9912\n",
            "Epoch 7/40\n",
            "60000/60000 [==============================] - 10s 164us/step - loss: 0.0316 - acc: 0.9898 - val_loss: 0.0302 - val_acc: 0.9904\n",
            "Epoch 8/40\n",
            "60000/60000 [==============================] - 10s 166us/step - loss: 0.0279 - acc: 0.9907 - val_loss: 0.0295 - val_acc: 0.9915\n",
            "Epoch 9/40\n",
            "60000/60000 [==============================] - 10s 161us/step - loss: 0.0263 - acc: 0.9912 - val_loss: 0.0293 - val_acc: 0.9910\n",
            "Epoch 10/40\n",
            "60000/60000 [==============================] - 10s 161us/step - loss: 0.0243 - acc: 0.9923 - val_loss: 0.0283 - val_acc: 0.9918\n",
            "Epoch 11/40\n",
            "60000/60000 [==============================] - 10s 162us/step - loss: 0.0231 - acc: 0.9928 - val_loss: 0.0245 - val_acc: 0.9919\n",
            "Epoch 12/40\n",
            "60000/60000 [==============================] - 10s 162us/step - loss: 0.0201 - acc: 0.9934 - val_loss: 0.0323 - val_acc: 0.9908\n",
            "Epoch 13/40\n",
            "60000/60000 [==============================] - 10s 161us/step - loss: 0.0211 - acc: 0.9930 - val_loss: 0.0273 - val_acc: 0.9926\n",
            "Epoch 14/40\n",
            "60000/60000 [==============================] - 10s 162us/step - loss: 0.0188 - acc: 0.9938 - val_loss: 0.0282 - val_acc: 0.9922\n",
            "Epoch 15/40\n",
            "60000/60000 [==============================] - 10s 161us/step - loss: 0.0178 - acc: 0.9938 - val_loss: 0.0291 - val_acc: 0.9917\n",
            "Epoch 16/40\n",
            "60000/60000 [==============================] - 10s 160us/step - loss: 0.0170 - acc: 0.9943 - val_loss: 0.0262 - val_acc: 0.9938\n",
            "Epoch 17/40\n",
            "60000/60000 [==============================] - 10s 160us/step - loss: 0.0153 - acc: 0.9952 - val_loss: 0.0271 - val_acc: 0.9934\n",
            "Epoch 18/40\n",
            "60000/60000 [==============================] - 10s 161us/step - loss: 0.0156 - acc: 0.9950 - val_loss: 0.0273 - val_acc: 0.9937\n",
            "Epoch 19/40\n",
            "60000/60000 [==============================] - 10s 163us/step - loss: 0.0130 - acc: 0.9952 - val_loss: 0.0337 - val_acc: 0.9928\n",
            "Epoch 20/40\n",
            "60000/60000 [==============================] - 10s 162us/step - loss: 0.0132 - acc: 0.9952 - val_loss: 0.0301 - val_acc: 0.9935\n",
            "Epoch 21/40\n",
            "60000/60000 [==============================] - 10s 162us/step - loss: 0.0133 - acc: 0.9960 - val_loss: 0.0337 - val_acc: 0.9924\n",
            "Epoch 22/40\n",
            "60000/60000 [==============================] - 10s 162us/step - loss: 0.0119 - acc: 0.9960 - val_loss: 0.0259 - val_acc: 0.9939\n",
            "Epoch 23/40\n",
            "60000/60000 [==============================] - 10s 161us/step - loss: 0.0105 - acc: 0.9965 - val_loss: 0.0350 - val_acc: 0.9920\n",
            "Epoch 24/40\n",
            "60000/60000 [==============================] - 10s 163us/step - loss: 0.0119 - acc: 0.9960 - val_loss: 0.0333 - val_acc: 0.9923\n",
            "Epoch 25/40\n",
            "60000/60000 [==============================] - 10s 161us/step - loss: 0.0111 - acc: 0.9960 - val_loss: 0.0329 - val_acc: 0.9924\n",
            "Epoch 26/40\n",
            "60000/60000 [==============================] - 10s 161us/step - loss: 0.0116 - acc: 0.9961 - val_loss: 0.0336 - val_acc: 0.9921\n",
            "Epoch 27/40\n",
            "60000/60000 [==============================] - 10s 161us/step - loss: 0.0104 - acc: 0.9965 - val_loss: 0.0281 - val_acc: 0.9932\n",
            "Epoch 28/40\n",
            "60000/60000 [==============================] - 10s 161us/step - loss: 0.0107 - acc: 0.9962 - val_loss: 0.0318 - val_acc: 0.9923\n",
            "Epoch 29/40\n",
            "60000/60000 [==============================] - 10s 161us/step - loss: 0.0104 - acc: 0.9966 - val_loss: 0.0309 - val_acc: 0.9925\n",
            "Epoch 30/40\n",
            "60000/60000 [==============================] - 10s 161us/step - loss: 0.0104 - acc: 0.9966 - val_loss: 0.0315 - val_acc: 0.9918\n",
            "Epoch 31/40\n",
            "60000/60000 [==============================] - 10s 160us/step - loss: 0.0097 - acc: 0.9966 - val_loss: 0.0311 - val_acc: 0.9933\n",
            "Epoch 32/40\n",
            "60000/60000 [==============================] - 10s 161us/step - loss: 0.0082 - acc: 0.9972 - val_loss: 0.0324 - val_acc: 0.9931\n",
            "Epoch 33/40\n",
            "60000/60000 [==============================] - 10s 160us/step - loss: 0.0084 - acc: 0.9972 - val_loss: 0.0340 - val_acc: 0.9930\n",
            "Epoch 34/40\n",
            "60000/60000 [==============================] - 10s 161us/step - loss: 0.0082 - acc: 0.9971 - val_loss: 0.0278 - val_acc: 0.9937\n",
            "Epoch 35/40\n",
            "60000/60000 [==============================] - 9s 158us/step - loss: 0.0075 - acc: 0.9973 - val_loss: 0.0367 - val_acc: 0.9918\n",
            "Epoch 36/40\n",
            "60000/60000 [==============================] - 9s 158us/step - loss: 0.0081 - acc: 0.9973 - val_loss: 0.0358 - val_acc: 0.9926\n",
            "Epoch 37/40\n",
            "60000/60000 [==============================] - 10s 160us/step - loss: 0.0076 - acc: 0.9974 - val_loss: 0.0314 - val_acc: 0.9920\n",
            "Epoch 38/40\n",
            "60000/60000 [==============================] - 10s 159us/step - loss: 0.0086 - acc: 0.9971 - val_loss: 0.0342 - val_acc: 0.9930\n",
            "Epoch 39/40\n",
            "60000/60000 [==============================] - 9s 158us/step - loss: 0.0078 - acc: 0.9974 - val_loss: 0.0321 - val_acc: 0.9923\n",
            "Epoch 40/40\n",
            "60000/60000 [==============================] - 9s 158us/step - loss: 0.0074 - acc: 0.9975 - val_loss: 0.0344 - val_acc: 0.9922\n",
            "Test loss: 0.03441917728569413\n",
            "Test accuracy: 0.9922\n"
          ],
          "name": "stdout"
        }
      ]
    },
    {
      "cell_type": "code",
      "metadata": {
        "id": "CHZdIDO89E62",
        "colab_type": "code",
        "colab": {}
      },
      "source": [
        "model.save(\"classifier.h5\")"
      ],
      "execution_count": 0,
      "outputs": []
    },
    {
      "cell_type": "code",
      "metadata": {
        "id": "q-peb7WmEbtc",
        "colab_type": "code",
        "outputId": "8f80011a-6450-40da-efa6-ebca127e3e28",
        "colab": {
          "base_uri": "https://localhost:8080/",
          "height": 295
        }
      },
      "source": [
        "import matplotlib.pyplot as plt\n",
        "\n",
        "plt.plot(history.history['acc'])\n",
        "plt.plot(history.history['val_acc'])\n",
        "plt.title('model accuracy')\n",
        "plt.ylabel('accuracy')\n",
        "plt.xlabel('epoch')\n",
        "plt.legend(['train', 'test'], loc='upper left')\n",
        "plt.show()"
      ],
      "execution_count": 44,
      "outputs": [
        {
          "output_type": "display_data",
          "data": {
            "image/png": "[encoded data removed]",
            "text/plain": [
              "<Figure size 432x288 with 1 Axes>"
            ]
          },
          "metadata": {
            "tags": []
          }
        }
      ]
    },
    {
      "cell_type": "code",
      "metadata": {
        "id": "ANEB-ZCzE0YU",
        "colab_type": "code",
        "outputId": "18fb8db3-0a2c-4543-cda9-48b53a7b90da",
        "colab": {
          "base_uri": "https://localhost:8080/",
          "height": 295
        }
      },
      "source": [
        "plt.plot(history.history['loss'])\n",
        "plt.plot(history.history['val_loss'])\n",
        "plt.title('model loss')\n",
        "plt.ylabel('loss')\n",
        "plt.xlabel('epoch')\n",
        "plt.legend(['train', 'test'], loc='upper left')\n",
        "plt.show()"
      ],
      "execution_count": 45,
      "outputs": [
        {
          "output_type": "display_data",
          "data": {
            "image/png": "[encoded data removed]",
            "text/plain": [
              "<Figure size 432x288 with 1 Axes>"
            ]
          },
          "metadata": {
            "tags": []
          }
        }
      ]
    },
    {
      "cell_type": "code",
      "metadata": {
        "id": "7VPQ-BnT2P54",
        "colab_type": "code",
        "colab": {}
      },
      "source": [
        "from keras.models import load_model\n",
        "m = load_model(\"classifier.h5\")\n",
        "pr = m.predict(x_test)"
      ],
      "execution_count": 0,
      "outputs": []
    },
    {
      "cell_type": "code",
      "metadata": {
        "id": "jXLzEM672QOL",
        "colab_type": "code",
        "outputId": "7563bff6-3522-4ddd-8b60-0198eda7178b",
        "colab": {
          "base_uri": "https://localhost:8080/",
          "height": 283
        }
      },
      "source": [
        "import numpy as np\n",
        "plt.figure(figsize=(40, 4))\n",
        "for i in range(10):\n",
        "    # display original images\n",
        "    ax = plt.subplot(3, 20, i + 1)\n",
        "    plt.imshow(x_test[i].reshape(28, 28))\n",
        "    plt.gray()\n",
        "    ax.get_xaxis().set_visible(False)\n",
        "    ax.get_yaxis().set_visible(False)\n",
        "    \n",
        "    print(np.argmax(pr[i])) \n",
        "  \n",
        "plt.show()"
      ],
      "execution_count": 46,
      "outputs": [
        {
          "output_type": "stream",
          "text": [
            "7\n",
            "2\n",
            "1\n",
            "0\n",
            "4\n",
            "1\n",
            "4\n",
            "9\n",
            "5\n",
            "9\n"
          ],
          "name": "stdout"
        },
        {
          "output_type": "display_data",
          "data": {
            "image/png": "[encoded data removed]",
            "text/plain": [
              "<Figure size 2880x288 with 10 Axes>"
            ]
          },
          "metadata": {
            "tags": []
          }
        }
      ]
    },
    {
      "cell_type": "code",
      "metadata": {
        "id": "Iksc71FlJTOQ",
        "colab_type": "code",
        "colab": {
          "base_uri": "https://localhost:8080/",
          "height": 449
        },
        "outputId": "14e7bf53-1aa3-4f9d-c7f4-ef4e05003e9b"
      },
      "source": [
        "from sklearn.metrics import confusion_matrix\n",
        "import seaborn as sn\n",
        "import pandas as pd\n",
        "\n",
        "p = []\n",
        "tr = []\n",
        "for i in pr:\n",
        "  p.append(np.argmax(i))\n",
        "\n",
        "for i in y_test:\n",
        "  tr.append(np.argmax(i))\n",
        "\n",
        "a = confusion_matrix(p, tr)\n",
        "\n",
        "df_cm = pd.DataFrame(a, index = [i for i in \"0123456789\"],\n",
        "                  columns = [i for i in \"0123456789\"])\n",
        "plt.figure(figsize = (10,7))\n",
        "sn.heatmap(df_cm, annot=True)"
      ],
      "execution_count": 59,
      "outputs": [
        {
          "output_type": "execute_result",
          "data": {
            "text/plain": [
              "<matplotlib.axes._subplots.AxesSubplot at 0x7f9dea5a99e8>"
            ]
          },
          "metadata": {
            "tags": []
          },
          "execution_count": 59
        },
        {
          "output_type": "display_data",
          "data": {
            "image/png": "[encoded data removed]",
            "text/plain": [
              "<Figure size 720x504 with 2 Axes>"
            ]
          },
          "metadata": {
            "tags": []
          }
        }
      ]
    },
    {
      "cell_type": "markdown",
      "metadata": {
        "id": "8sy-zubw-lRw",
        "colab_type": "text"
      },
      "source": [
        "autoencoder \n"
      ]
    },
    {
      "cell_type": "code",
      "metadata": {
        "id": "RhNXE5J3FFaN",
        "colab_type": "code",
        "outputId": "9533b9e2-4ffe-4118-ccdd-cba0ab07b66f",
        "colab": {
          "base_uri": "https://localhost:8080/",
          "height": 67
        }
      },
      "source": [
        "import keras\n",
        "from matplotlib import pyplot as plt\n",
        "import numpy as np\n",
        "import gzip\n",
        "%matplotlib inline\n",
        "from keras.models import Model\n",
        "from keras.optimizers import RMSprop\n",
        "from keras.layers import Input,Dense,Flatten,Dropout,merge,Reshape,Conv2D,MaxPooling2D,UpSampling2D,Conv2DTranspose,Lambda\n",
        "from keras.layers.normalization import BatchNormalization\n",
        "from keras.models import Model,Sequential\n",
        "from keras.callbacks import ModelCheckpoint\n",
        "from keras.optimizers import Adadelta, RMSprop,SGD,Adam\n",
        "from keras import regularizers\n",
        "from keras.utils import to_categorical\n",
        "from __future__ import print_function\n",
        "import keras\n",
        "from keras.datasets import mnist\n",
        "from keras.models import Sequential\n",
        "from keras import backend as K\n",
        "\n",
        "batch_size = 128\n",
        "num_classes = 10\n",
        "\n",
        "# input image dimensions\n",
        "img_rows, img_cols = 28, 28\n",
        "\n",
        "# the data, split between train and test sets\n",
        "(x_train, y_train), (x_test, y_test) = mnist.load_data()\n",
        "\n",
        "if K.image_data_format() == 'channels_first':\n",
        "    x_train = x_train.reshape(x_train.shape[0], 1, img_rows, img_cols)\n",
        "    x_test = x_test.reshape(x_test.shape[0], 1, img_rows, img_cols)\n",
        "    input_shape = (1, img_rows, img_cols)\n",
        "else:\n",
        "    x_train = x_train.reshape(x_train.shape[0], img_rows, img_cols, 1)\n",
        "    x_test = x_test.reshape(x_test.shape[0], img_rows, img_cols, 1)\n",
        "    input_shape = (img_rows, img_cols, 1)\n",
        "\n",
        "x_train = x_train.astype('float32')\n",
        "x_test = x_test.astype('float32')\n",
        "x_train /= 255\n",
        "x_test /= 255\n",
        "print('x_train shape:', x_train.shape)\n",
        "print(x_train.shape[0], 'train samples')\n",
        "print(x_test.shape[0], 'test samples')\n"
      ],
      "execution_count": 70,
      "outputs": [
        {
          "output_type": "stream",
          "text": [
            "x_train shape: (60000, 28, 28, 1)\n",
            "60000 train samples\n",
            "10000 test samples\n"
          ],
          "name": "stdout"
        }
      ]
    },
    {
      "cell_type": "code",
      "metadata": {
        "id": "h41tI_eK_yfX",
        "colab_type": "code",
        "colab": {}
      },
      "source": [
        "x_train = x_train.reshape(60000,784)\n",
        "x_test = x_test.reshape(10000,784)"
      ],
      "execution_count": 0,
      "outputs": []
    },
    {
      "cell_type": "code",
      "metadata": {
        "id": "A0Zm97oeBouK",
        "colab_type": "code",
        "colab": {}
      },
      "source": [
        "input_img= Input(shape=(784,))"
      ],
      "execution_count": 0,
      "outputs": []
    },
    {
      "cell_type": "code",
      "metadata": {
        "id": "xTnGa95hEEt0",
        "colab_type": "code",
        "colab": {}
      },
      "source": [
        "encoded = Dense(units=128, activation='relu')(input_img)\n",
        "encoded = Dense(units=64, activation='relu')(encoded)\n",
        "encoded = Dense(units=32, activation='relu')(encoded)\n",
        "decoded = Dense(units=64, activation='relu')(encoded)\n",
        "decoded = Dense(units=128, activation='relu')(decoded)\n",
        "decoded = Dense(units=784, activation='sigmoid')(decoded)"
      ],
      "execution_count": 0,
      "outputs": []
    },
    {
      "cell_type": "code",
      "metadata": {
        "id": "AGHaUTzqEIbT",
        "colab_type": "code",
        "colab": {}
      },
      "source": [
        "autoencoder=Model(input_img, decoded)\n",
        "encoder = Model(input_img, encoded)"
      ],
      "execution_count": 0,
      "outputs": []
    },
    {
      "cell_type": "code",
      "metadata": {
        "id": "gw5W67dKElSz",
        "colab_type": "code",
        "colab": {}
      },
      "source": [
        "input_enc= Input(shape=(32,))"
      ],
      "execution_count": 0,
      "outputs": []
    },
    {
      "cell_type": "code",
      "metadata": {
        "id": "KIGT6ANJEVKR",
        "colab_type": "code",
        "colab": {}
      },
      "source": [
        "dec = Dense(units=64, activation='relu')(input_enc)\n",
        "dec = Dense(units=128, activation='relu')(dec)\n",
        "dec = Dense(units=784, activation='sigmoid')(dec)"
      ],
      "execution_count": 0,
      "outputs": []
    },
    {
      "cell_type": "code",
      "metadata": {
        "id": "Mb0cWrH-E0BF",
        "colab_type": "code",
        "colab": {}
      },
      "source": [
        "decoder = Model(input_enc, dec)"
      ],
      "execution_count": 0,
      "outputs": []
    },
    {
      "cell_type": "code",
      "metadata": {
        "id": "tZRRDlufEMIp",
        "colab_type": "code",
        "outputId": "6d857ee4-4de7-46e4-9d7a-ddbb79c3b6c3",
        "colab": {
          "base_uri": "https://localhost:8080/",
          "height": 370
        }
      },
      "source": [
        "autoencoder.summary()"
      ],
      "execution_count": 92,
      "outputs": [
        {
          "output_type": "stream",
          "text": [
            "_________________________________________________________________\n",
            "Layer (type)                 Output Shape              Param #   \n",
            "=================================================================\n",
            "input_16 (InputLayer)        (None, 784)               0         \n",
            "_________________________________________________________________\n",
            "dense_103 (Dense)            (None, 128)               100480    \n",
            "_________________________________________________________________\n",
            "dense_104 (Dense)            (None, 64)                8256      \n",
            "_________________________________________________________________\n",
            "dense_105 (Dense)            (None, 32)                2080      \n",
            "_________________________________________________________________\n",
            "dense_106 (Dense)            (None, 64)                2112      \n",
            "_________________________________________________________________\n",
            "dense_107 (Dense)            (None, 128)               8320      \n",
            "_________________________________________________________________\n",
            "dense_108 (Dense)            (None, 784)               101136    \n",
            "=================================================================\n",
            "Total params: 222,384\n",
            "Trainable params: 222,384\n",
            "Non-trainable params: 0\n",
            "_________________________________________________________________\n"
          ],
          "name": "stdout"
        }
      ]
    },
    {
      "cell_type": "code",
      "metadata": {
        "id": "8f2Mth2kESD5",
        "colab_type": "code",
        "outputId": "2fe5b37a-772c-4b64-9647-7ed5c3e905ed",
        "colab": {
          "base_uri": "https://localhost:8080/",
          "height": 269
        }
      },
      "source": [
        "encoder.summary()"
      ],
      "execution_count": 93,
      "outputs": [
        {
          "output_type": "stream",
          "text": [
            "_________________________________________________________________\n",
            "Layer (type)                 Output Shape              Param #   \n",
            "=================================================================\n",
            "input_16 (InputLayer)        (None, 784)               0         \n",
            "_________________________________________________________________\n",
            "dense_103 (Dense)            (None, 128)               100480    \n",
            "_________________________________________________________________\n",
            "dense_104 (Dense)            (None, 64)                8256      \n",
            "_________________________________________________________________\n",
            "dense_105 (Dense)            (None, 32)                2080      \n",
            "=================================================================\n",
            "Total params: 110,816\n",
            "Trainable params: 110,816\n",
            "Non-trainable params: 0\n",
            "_________________________________________________________________\n"
          ],
          "name": "stdout"
        }
      ]
    },
    {
      "cell_type": "code",
      "metadata": {
        "id": "Hp2JFghl73-k",
        "colab_type": "code",
        "colab": {
          "base_uri": "https://localhost:8080/",
          "height": 269
        },
        "outputId": "09f6eaa6-64b1-4358-d150-2994e766d057"
      },
      "source": [
        "decoder.summary()"
      ],
      "execution_count": 94,
      "outputs": [
        {
          "output_type": "stream",
          "text": [
            "_________________________________________________________________\n",
            "Layer (type)                 Output Shape              Param #   \n",
            "=================================================================\n",
            "input_17 (InputLayer)        (None, 32)                0         \n",
            "_________________________________________________________________\n",
            "dense_109 (Dense)            (None, 64)                2112      \n",
            "_________________________________________________________________\n",
            "dense_110 (Dense)            (None, 128)               8320      \n",
            "_________________________________________________________________\n",
            "dense_111 (Dense)            (None, 784)               101136    \n",
            "=================================================================\n",
            "Total params: 111,568\n",
            "Trainable params: 111,568\n",
            "Non-trainable params: 0\n",
            "_________________________________________________________________\n"
          ],
          "name": "stdout"
        }
      ]
    },
    {
      "cell_type": "code",
      "metadata": {
        "id": "L9kT3Zd3EVId",
        "colab_type": "code",
        "outputId": "65adddd7-e45f-47b9-b803-6217c813e2b6",
        "colab": {
          "base_uri": "https://localhost:8080/",
          "height": 154
        }
      },
      "source": [
        "autoencoder.compile(optimizer='adam', loss='binary_crossentropy', metrics=['accuracy'])"
      ],
      "execution_count": 0,
      "outputs": [
        {
          "output_type": "stream",
          "text": [
            "W0703 10:10:30.097615 140319083624320 deprecation_wrapper.py:119] From /usr/local/lib/python3.6/dist-packages/keras/optimizers.py:790: The name tf.train.Optimizer is deprecated. Please use tf.compat.v1.train.Optimizer instead.\n",
            "\n",
            "W0703 10:10:30.135692 140319083624320 deprecation_wrapper.py:119] From /usr/local/lib/python3.6/dist-packages/keras/backend/tensorflow_backend.py:3376: The name tf.log is deprecated. Please use tf.math.log instead.\n",
            "\n",
            "W0703 10:10:30.146287 140319083624320 deprecation.py:323] From /usr/local/lib/python3.6/dist-packages/tensorflow/python/ops/nn_impl.py:180: add_dispatch_support.<locals>.wrapper (from tensorflow.python.ops.array_ops) is deprecated and will be removed in a future version.\n",
            "Instructions for updating:\n",
            "Use tf.where in 2.0, which has the same broadcast rule as np.where\n"
          ],
          "name": "stderr"
        }
      ]
    },
    {
      "cell_type": "code",
      "metadata": {
        "id": "qi4yZI5GEZvA",
        "colab_type": "code",
        "outputId": "e6982c48-d8c1-4e6b-a259-c6483d7245aa",
        "colab": {
          "base_uri": "https://localhost:8080/",
          "height": 1000
        }
      },
      "source": [
        "history = autoencoder.fit(x_train, x_train,\n",
        "                epochs=50,\n",
        "                batch_size=256,\n",
        "                shuffle=True,\n",
        "                validation_data=(x_test, x_test))"
      ],
      "execution_count": 0,
      "outputs": [
        {
          "output_type": "stream",
          "text": [
            "W0703 10:10:31.787764 140319083624320 deprecation_wrapper.py:119] From /usr/local/lib/python3.6/dist-packages/keras/backend/tensorflow_backend.py:986: The name tf.assign_add is deprecated. Please use tf.compat.v1.assign_add instead.\n",
            "\n"
          ],
          "name": "stderr"
        },
        {
          "output_type": "stream",
          "text": [
            "Train on 60000 samples, validate on 10000 samples\n",
            "Epoch 1/50\n",
            "60000/60000 [==============================] - 3s 52us/step - loss: 0.2468 - acc: 0.7850 - val_loss: 0.1694 - val_acc: 0.8009\n",
            "Epoch 2/50\n",
            "60000/60000 [==============================] - 2s 33us/step - loss: 0.1517 - acc: 0.8048 - val_loss: 0.1369 - val_acc: 0.8065\n",
            "Epoch 3/50\n",
            "60000/60000 [==============================] - 2s 33us/step - loss: 0.1323 - acc: 0.8084 - val_loss: 0.1247 - val_acc: 0.8086\n",
            "Epoch 4/50\n",
            "60000/60000 [==============================] - 2s 33us/step - loss: 0.1226 - acc: 0.8100 - val_loss: 0.1174 - val_acc: 0.8095\n",
            "Epoch 5/50\n",
            "60000/60000 [==============================] - 2s 33us/step - loss: 0.1166 - acc: 0.8109 - val_loss: 0.1126 - val_acc: 0.8107\n",
            "Epoch 6/50\n",
            "60000/60000 [==============================] - 2s 33us/step - loss: 0.1124 - acc: 0.8115 - val_loss: 0.1094 - val_acc: 0.8111\n",
            "Epoch 7/50\n",
            "60000/60000 [==============================] - 2s 33us/step - loss: 0.1093 - acc: 0.8119 - val_loss: 0.1069 - val_acc: 0.8116\n",
            "Epoch 8/50\n",
            "60000/60000 [==============================] - 2s 33us/step - loss: 0.1068 - acc: 0.8122 - val_loss: 0.1045 - val_acc: 0.8114\n",
            "Epoch 9/50\n",
            "60000/60000 [==============================] - 2s 33us/step - loss: 0.1046 - acc: 0.8125 - val_loss: 0.1027 - val_acc: 0.8119\n",
            "Epoch 10/50\n",
            "60000/60000 [==============================] - 2s 33us/step - loss: 0.1028 - acc: 0.8127 - val_loss: 0.1009 - val_acc: 0.8121\n",
            "Epoch 11/50\n",
            "60000/60000 [==============================] - 2s 33us/step - loss: 0.1012 - acc: 0.8129 - val_loss: 0.0997 - val_acc: 0.8123\n",
            "Epoch 12/50\n",
            "60000/60000 [==============================] - 2s 33us/step - loss: 0.1000 - acc: 0.8131 - val_loss: 0.0986 - val_acc: 0.8123\n",
            "Epoch 13/50\n",
            "60000/60000 [==============================] - 2s 33us/step - loss: 0.0990 - acc: 0.8132 - val_loss: 0.0978 - val_acc: 0.8124\n",
            "Epoch 14/50\n",
            "60000/60000 [==============================] - 2s 33us/step - loss: 0.0980 - acc: 0.8133 - val_loss: 0.0977 - val_acc: 0.8119\n",
            "Epoch 15/50\n",
            "60000/60000 [==============================] - 2s 33us/step - loss: 0.0972 - acc: 0.8134 - val_loss: 0.0964 - val_acc: 0.8127\n",
            "Epoch 16/50\n",
            "60000/60000 [==============================] - 2s 33us/step - loss: 0.0963 - acc: 0.8135 - val_loss: 0.0954 - val_acc: 0.8128\n",
            "Epoch 17/50\n",
            "60000/60000 [==============================] - 2s 33us/step - loss: 0.0955 - acc: 0.8136 - val_loss: 0.0944 - val_acc: 0.8127\n",
            "Epoch 18/50\n",
            "60000/60000 [==============================] - 2s 33us/step - loss: 0.0948 - acc: 0.8136 - val_loss: 0.0935 - val_acc: 0.8127\n",
            "Epoch 19/50\n",
            "60000/60000 [==============================] - 2s 32us/step - loss: 0.0941 - acc: 0.8137 - val_loss: 0.0930 - val_acc: 0.8128\n",
            "Epoch 20/50\n",
            "60000/60000 [==============================] - 2s 33us/step - loss: 0.0935 - acc: 0.8138 - val_loss: 0.0924 - val_acc: 0.8129\n",
            "Epoch 21/50\n",
            "60000/60000 [==============================] - 2s 33us/step - loss: 0.0929 - acc: 0.8138 - val_loss: 0.0921 - val_acc: 0.8130\n",
            "Epoch 22/50\n",
            "60000/60000 [==============================] - 2s 32us/step - loss: 0.0925 - acc: 0.8139 - val_loss: 0.0915 - val_acc: 0.8129\n",
            "Epoch 23/50\n",
            "60000/60000 [==============================] - 2s 32us/step - loss: 0.0920 - acc: 0.8139 - val_loss: 0.0912 - val_acc: 0.8130\n",
            "Epoch 24/50\n",
            "60000/60000 [==============================] - 2s 33us/step - loss: 0.0917 - acc: 0.8139 - val_loss: 0.0911 - val_acc: 0.8131\n",
            "Epoch 25/50\n",
            "60000/60000 [==============================] - 2s 32us/step - loss: 0.0912 - acc: 0.8140 - val_loss: 0.0903 - val_acc: 0.8131\n",
            "Epoch 26/50\n",
            "60000/60000 [==============================] - 2s 33us/step - loss: 0.0908 - acc: 0.8140 - val_loss: 0.0901 - val_acc: 0.8131\n",
            "Epoch 27/50\n",
            "60000/60000 [==============================] - 2s 33us/step - loss: 0.0904 - acc: 0.8141 - val_loss: 0.0898 - val_acc: 0.8132\n",
            "Epoch 28/50\n",
            "60000/60000 [==============================] - 2s 33us/step - loss: 0.0900 - acc: 0.8141 - val_loss: 0.0891 - val_acc: 0.8131\n",
            "Epoch 29/50\n",
            "60000/60000 [==============================] - 2s 33us/step - loss: 0.0896 - acc: 0.8141 - val_loss: 0.0888 - val_acc: 0.8133\n",
            "Epoch 30/50\n",
            "60000/60000 [==============================] - 2s 34us/step - loss: 0.0893 - acc: 0.8142 - val_loss: 0.0886 - val_acc: 0.8132\n",
            "Epoch 31/50\n",
            "60000/60000 [==============================] - 2s 34us/step - loss: 0.0890 - acc: 0.8142 - val_loss: 0.0883 - val_acc: 0.8133\n",
            "Epoch 32/50\n",
            "60000/60000 [==============================] - 2s 34us/step - loss: 0.0888 - acc: 0.8142 - val_loss: 0.0880 - val_acc: 0.8132\n",
            "Epoch 33/50\n",
            "60000/60000 [==============================] - 2s 34us/step - loss: 0.0884 - acc: 0.8142 - val_loss: 0.0878 - val_acc: 0.8133\n",
            "Epoch 34/50\n",
            "60000/60000 [==============================] - 2s 33us/step - loss: 0.0883 - acc: 0.8143 - val_loss: 0.0878 - val_acc: 0.8132\n",
            "Epoch 35/50\n",
            "60000/60000 [==============================] - 2s 33us/step - loss: 0.0881 - acc: 0.8143 - val_loss: 0.0874 - val_acc: 0.8133\n",
            "Epoch 36/50\n",
            "60000/60000 [==============================] - 2s 33us/step - loss: 0.0879 - acc: 0.8143 - val_loss: 0.0875 - val_acc: 0.8132\n",
            "Epoch 37/50\n",
            "60000/60000 [==============================] - 2s 32us/step - loss: 0.0877 - acc: 0.8143 - val_loss: 0.0873 - val_acc: 0.8134\n",
            "Epoch 38/50\n",
            "60000/60000 [==============================] - 2s 33us/step - loss: 0.0876 - acc: 0.8143 - val_loss: 0.0872 - val_acc: 0.8133\n",
            "Epoch 39/50\n",
            "60000/60000 [==============================] - 2s 33us/step - loss: 0.0874 - acc: 0.8143 - val_loss: 0.0870 - val_acc: 0.8134\n",
            "Epoch 40/50\n",
            "60000/60000 [==============================] - 2s 33us/step - loss: 0.0872 - acc: 0.8143 - val_loss: 0.0868 - val_acc: 0.8134\n",
            "Epoch 41/50\n",
            "60000/60000 [==============================] - 2s 33us/step - loss: 0.0871 - acc: 0.8143 - val_loss: 0.0866 - val_acc: 0.8133\n",
            "Epoch 42/50\n",
            "60000/60000 [==============================] - 2s 33us/step - loss: 0.0869 - acc: 0.8144 - val_loss: 0.0867 - val_acc: 0.8134\n",
            "Epoch 43/50\n",
            "60000/60000 [==============================] - 2s 33us/step - loss: 0.0869 - acc: 0.8144 - val_loss: 0.0868 - val_acc: 0.8133\n",
            "Epoch 44/50\n",
            "60000/60000 [==============================] - 2s 33us/step - loss: 0.0868 - acc: 0.8144 - val_loss: 0.0863 - val_acc: 0.8134\n",
            "Epoch 45/50\n",
            "60000/60000 [==============================] - 2s 33us/step - loss: 0.0866 - acc: 0.8144 - val_loss: 0.0861 - val_acc: 0.8133\n",
            "Epoch 46/50\n",
            "60000/60000 [==============================] - 2s 32us/step - loss: 0.0865 - acc: 0.8144 - val_loss: 0.0868 - val_acc: 0.8135\n",
            "Epoch 47/50\n",
            "60000/60000 [==============================] - 2s 33us/step - loss: 0.0865 - acc: 0.8144 - val_loss: 0.0862 - val_acc: 0.8134\n",
            "Epoch 48/50\n",
            "60000/60000 [==============================] - 2s 33us/step - loss: 0.0863 - acc: 0.8144 - val_loss: 0.0860 - val_acc: 0.8135\n",
            "Epoch 49/50\n",
            "60000/60000 [==============================] - 2s 32us/step - loss: 0.0862 - acc: 0.8144 - val_loss: 0.0858 - val_acc: 0.8134\n",
            "Epoch 50/50\n",
            "60000/60000 [==============================] - 2s 33us/step - loss: 0.0862 - acc: 0.8144 - val_loss: 0.0856 - val_acc: 0.8134\n"
          ],
          "name": "stdout"
        }
      ]
    },
    {
      "cell_type": "code",
      "metadata": {
        "id": "8In42tjoRG-L",
        "colab_type": "code",
        "colab": {}
      },
      "source": [
        "autoencoder.save(\"simpleAutoEncoder.h5\")"
      ],
      "execution_count": 0,
      "outputs": []
    },
    {
      "cell_type": "code",
      "metadata": {
        "id": "1xmntsD-RHG2",
        "colab_type": "code",
        "outputId": "1da387db-ae25-47c7-db34-42a7d30e0d49",
        "colab": {
          "base_uri": "https://localhost:8080/",
          "height": 295
        }
      },
      "source": [
        "import matplotlib.pyplot as plt\n",
        "\n",
        "acc = history.history['acc']\n",
        "val_Acc = history.history['val_acc']\n",
        "\n",
        "plt.plot(acc)\n",
        "plt.plot(val_Acc)\n",
        "plt.title('model accuracy')\n",
        "plt.ylabel('accuracy')\n",
        "plt.xlabel('epoch')\n",
        "plt.legend(['train', 'test'], loc='upper left')\n",
        "plt.show()"
      ],
      "execution_count": 0,
      "outputs": [
        {
          "output_type": "display_data",
          "data": {
            "image/png": "[encoded data removed]",
            "text/plain": [
              "<Figure size 432x288 with 1 Axes>"
            ]
          },
          "metadata": {
            "tags": []
          }
        }
      ]
    },
    {
      "cell_type": "code",
      "metadata": {
        "id": "sx2eTfo7RHR-",
        "colab_type": "code",
        "outputId": "8d8d0c9e-601b-4a67-ccf5-1a7b6f4b2e5e",
        "colab": {
          "base_uri": "https://localhost:8080/",
          "height": 295
        }
      },
      "source": [
        "plt.plot(history.history['loss'])\n",
        "plt.plot(history.history['val_loss'])\n",
        "plt.title('model loss')\n",
        "plt.ylabel('loss')\n",
        "plt.xlabel('epoch')\n",
        "plt.legend(['train', 'test'], loc='upper left')\n",
        "plt.show()"
      ],
      "execution_count": 0,
      "outputs": [
        {
          "output_type": "display_data",
          "data": {
            "image/png": "[encoded data removed]",
            "text/plain": [
              "<Figure size 432x288 with 1 Axes>"
            ]
          },
          "metadata": {
            "tags": []
          }
        }
      ]
    },
    {
      "cell_type": "code",
      "metadata": {
        "id": "pxXpRvYiEdNx",
        "colab_type": "code",
        "colab": {}
      },
      "source": [
        "encoded_imgs = encoder.predict(x_test)\n",
        "predicted = autoencoder.predict(x_test)\n"
      ],
      "execution_count": 0,
      "outputs": []
    },
    {
      "cell_type": "code",
      "metadata": {
        "id": "QU42K2JDHAsu",
        "colab_type": "code",
        "outputId": "13b466b0-e0c6-4d37-eb3e-a8333423c0d3",
        "colab": {
          "base_uri": "https://localhost:8080/",
          "height": 268
        }
      },
      "source": [
        "plt.figure(figsize=(40, 4))\n",
        "for i in range(10):\n",
        "    # display original images\n",
        "    ax = plt.subplot(3, 20, i + 1)\n",
        "    plt.imshow(x_test[i].reshape(28, 28))\n",
        "    plt.gray()\n",
        "    ax.get_xaxis().set_visible(False)\n",
        "    ax.get_yaxis().set_visible(False)\n",
        "    \n",
        "    # display encoded images\n",
        "    ax = plt.subplot(3, 20, i + 1 + 20)\n",
        "    plt.imshow(encoded_imgs[i].reshape(8,4))\n",
        "    plt.gray()\n",
        "    ax.get_xaxis().set_visible(False)\n",
        "    ax.get_yaxis().set_visible(False)\n",
        "# display reconstructed images\n",
        "    ax = plt.subplot(3, 20, 2*20 +i+ 1)\n",
        "    plt.imshow(predicted[i].reshape(28, 28))\n",
        "    plt.gray()\n",
        "    ax.get_xaxis().set_visible(False)\n",
        "    ax.get_yaxis().set_visible(False)\n",
        "  \n",
        "    \n",
        "plt.show()"
      ],
      "execution_count": 0,
      "outputs": [
        {
          "output_type": "display_data",
          "data": {
            "image/png": "[encoded data removed]",
            "text/plain": [
              "<Figure size 2880x288 with 30 Axes>"
            ]
          },
          "metadata": {
            "tags": []
          }
        }
      ]
    },
    {
      "cell_type": "code",
      "metadata": {
        "id": "lnJOF8R0IIMd",
        "colab_type": "code",
        "colab": {}
      },
      "source": [
        "from keras.models import load_model\n",
        "m = load_model(\"simpleAutoEncoder.h5\")\n",
        "pr = m.predict(x_test)"
      ],
      "execution_count": 0,
      "outputs": []
    },
    {
      "cell_type": "code",
      "metadata": {
        "id": "KNzQ3F0_Jmjg",
        "colab_type": "code",
        "colab": {}
      },
      "source": [
        "from keras.models import load_model\n",
        "m = load_model(\"classifier.h5\")\n",
        "a = pr.reshape(10000,28,28,1)\n",
        "pr = m.predict(a)"
      ],
      "execution_count": 0,
      "outputs": []
    },
    {
      "cell_type": "code",
      "metadata": {
        "id": "-BJ3cP9fKNj1",
        "colab_type": "code",
        "colab": {
          "base_uri": "https://localhost:8080/",
          "height": 283
        },
        "outputId": "d9a42989-b0c4-4582-d328-c2cdecd03c8d"
      },
      "source": [
        "import numpy as np\n",
        "plt.figure(figsize=(40, 4))\n",
        "for i in range(10):\n",
        "    # display original images\n",
        "    ax = plt.subplot(3, 20, i + 1)\n",
        "    plt.imshow(x_test[i].reshape(28, 28))\n",
        "    plt.gray()\n",
        "    ax.get_xaxis().set_visible(False)\n",
        "    ax.get_yaxis().set_visible(False)\n",
        "    \n",
        "    print(np.argmax(pr[i])) \n",
        "  \n",
        "plt.show()"
      ],
      "execution_count": 99,
      "outputs": [
        {
          "output_type": "stream",
          "text": [
            "7\n",
            "2\n",
            "1\n",
            "0\n",
            "4\n",
            "1\n",
            "4\n",
            "9\n",
            "5\n",
            "9\n"
          ],
          "name": "stdout"
        },
        {
          "output_type": "display_data",
          "data": {
            "image/png": "[encoded data removed]",
            "text/plain": [
              "<Figure size 2880x288 with 10 Axes>"
            ]
          },
          "metadata": {
            "tags": []
          }
        }
      ]
    },
    {
      "cell_type": "markdown",
      "metadata": {
        "id": "rrBSp6Xx4-VY",
        "colab_type": "text"
      },
      "source": [
        "Adding normal noise to data"
      ]
    },
    {
      "cell_type": "code",
      "metadata": {
        "id": "Ksfsh3uDHKhE",
        "colab_type": "code",
        "outputId": "4dde0fa6-f40e-44e1-88c4-0d1171ba173a",
        "colab": {
          "base_uri": "https://localhost:8080/",
          "height": 50
        }
      },
      "source": [
        "#loading only images and not their labels\n",
        "(X_train, _), (X_test, _) = mnist.load_data()\n",
        "\n",
        "X_train = X_train.astype('float32')/255\n",
        "X_test = X_test.astype('float32')/255\n",
        "\n",
        "X_train = X_train.reshape(len(X_train), np.prod(X_train.shape[1:]))\n",
        "X_test = X_test.reshape(len(X_test), np.prod(X_test.shape[1:]))\n",
        "X_train_noisy = X_train + np.random.normal(loc=0.0, scale=0.5, size=X_train.shape)\n",
        "X_train_noisy = np.clip(X_train_noisy, 0., 1.)\n",
        "X_test_noisy = X_test + np.random.normal(loc=0.0, scale=0.5, size=X_test.shape)\n",
        "X_test_noisy = np.clip(X_test_noisy, 0., 1.)\n",
        "print(X_train_noisy.shape)\n",
        "print(X_test_noisy.shape)"
      ],
      "execution_count": 0,
      "outputs": [
        {
          "output_type": "stream",
          "text": [
            "(60000, 784)\n",
            "(10000, 784)\n"
          ],
          "name": "stdout"
        }
      ]
    },
    {
      "cell_type": "code",
      "metadata": {
        "id": "yFnQyH3zIHI5",
        "colab_type": "code",
        "outputId": "5e4d8d91-24c8-4223-be5b-837c21aaf017",
        "colab": {
          "base_uri": "https://localhost:8080/",
          "height": 1000
        }
      },
      "source": [
        "#Input image\n",
        "input_img= Input(shape=(784,))\n",
        "# encoded and decoded layer for the autoencoder\n",
        "encoded = Dense(units=128, activation='relu')(input_img)\n",
        "encoded = Dense(units=64, activation='relu')(encoded)\n",
        "encoded = Dense(units=32, activation='relu')(encoded)\n",
        "decoded = Dense(units=64, activation='relu')(encoded)\n",
        "decoded = Dense(units=128, activation='relu')(decoded)\n",
        "decoded = Dense(units=784, activation='sigmoid')(decoded)\n",
        "# Building autoencoder\n",
        "autoencoder=Model(input_img, decoded)\n",
        "#extracting encoder\n",
        "encoder = Model(input_img, encoded)\n",
        "# compiling the autoencoder\n",
        "autoencoder.compile(optimizer='adam', loss='binary_crossentropy', metrics=['accuracy'])\n",
        "# Fitting the noise trained data to the autoencoder \n",
        "autoencoder.fit(X_train_noisy, X_train_noisy,\n",
        "                epochs=100,\n",
        "                batch_size=256,\n",
        "                shuffle=True,\n",
        "                validation_data=(X_test_noisy, X_test_noisy))\n",
        "# reconstructing the image from autoencoder and encoder\n",
        "encoded_imgs = encoder.predict(X_test_noisy)\n",
        "predicted = autoencoder.predict(X_test_noisy)\n",
        "# plotting the noised image, encoded image and the reconstructed image\n",
        "plt.figure(figsize=(40, 4))\n",
        "for i in range(10):\n",
        "# display original images\n",
        "    \n",
        "    ax = plt.subplot(4, 20, i + 1)\n",
        "    plt.imshow(X_test[i].reshape(28, 28))\n",
        "    plt.gray()\n",
        "    ax.get_xaxis().set_visible(False)\n",
        "    ax.get_yaxis().set_visible(False)\n",
        "    \n",
        "# display noised images\n",
        "    ax = plt.subplot(4, 20, i + 1+20)\n",
        "    plt.imshow(X_test_noisy[i].reshape(28, 28))\n",
        "    plt.gray()\n",
        "    ax.get_xaxis().set_visible(False)\n",
        "    ax.get_yaxis().set_visible(False)\n",
        "# display encoded images    \n",
        "    ax = plt.subplot(4, 20, 2*20+i + 1 )\n",
        "    plt.imshow(encoded_imgs[i].reshape(8,4))\n",
        "    plt.gray()\n",
        "    ax.get_xaxis().set_visible(False)\n",
        "    ax.get_yaxis().set_visible(False)\n",
        "# display reconstruction images\n",
        "    ax = plt.subplot(4, 20, 3*20 +i+ 1)\n",
        "    plt.imshow(predicted[i].reshape(28, 28))\n",
        "    plt.gray()\n",
        "    ax.get_xaxis().set_visible(False)\n",
        "    ax.get_yaxis().set_visible(False)\n",
        "    \n",
        "    \n",
        "plt.show()"
      ],
      "execution_count": 0,
      "outputs": [
        {
          "output_type": "stream",
          "text": [
            "Train on 60000 samples, validate on 10000 samples\n",
            "Epoch 1/100\n",
            "60000/60000 [==============================] - 3s 57us/step - loss: 0.5631 - acc: 0.4328 - val_loss: 0.5462 - val_acc: 0.4479\n",
            "Epoch 2/100\n",
            "60000/60000 [==============================] - 2s 38us/step - loss: 0.5396 - acc: 0.4543 - val_loss: 0.5350 - val_acc: 0.4585\n",
            "Epoch 3/100\n",
            "60000/60000 [==============================] - 2s 38us/step - loss: 0.5326 - acc: 0.4602 - val_loss: 0.5311 - val_acc: 0.4615\n",
            "Epoch 4/100\n",
            "60000/60000 [==============================] - 2s 39us/step - loss: 0.5296 - acc: 0.4623 - val_loss: 0.5279 - val_acc: 0.4636\n",
            "Epoch 5/100\n",
            "60000/60000 [==============================] - 2s 38us/step - loss: 0.5273 - acc: 0.4639 - val_loss: 0.5265 - val_acc: 0.4645\n",
            "Epoch 6/100\n",
            "60000/60000 [==============================] - 2s 39us/step - loss: 0.5257 - acc: 0.4650 - val_loss: 0.5249 - val_acc: 0.4657\n",
            "Epoch 7/100\n",
            "60000/60000 [==============================] - 2s 39us/step - loss: 0.5247 - acc: 0.4657 - val_loss: 0.5243 - val_acc: 0.4663\n",
            "Epoch 8/100\n",
            "60000/60000 [==============================] - 2s 38us/step - loss: 0.5239 - acc: 0.4661 - val_loss: 0.5234 - val_acc: 0.4666\n",
            "Epoch 9/100\n",
            "60000/60000 [==============================] - 2s 38us/step - loss: 0.5234 - acc: 0.4665 - val_loss: 0.5229 - val_acc: 0.4669\n",
            "Epoch 10/100\n",
            "60000/60000 [==============================] - 2s 38us/step - loss: 0.5228 - acc: 0.4668 - val_loss: 0.5224 - val_acc: 0.4672\n",
            "Epoch 11/100\n",
            "60000/60000 [==============================] - 2s 38us/step - loss: 0.5224 - acc: 0.4672 - val_loss: 0.5218 - val_acc: 0.4677\n",
            "Epoch 12/100\n",
            "60000/60000 [==============================] - 2s 39us/step - loss: 0.5218 - acc: 0.4675 - val_loss: 0.5215 - val_acc: 0.4678\n",
            "Epoch 13/100\n",
            "60000/60000 [==============================] - 2s 38us/step - loss: 0.5214 - acc: 0.4678 - val_loss: 0.5211 - val_acc: 0.4682\n",
            "Epoch 14/100\n",
            "60000/60000 [==============================] - 2s 38us/step - loss: 0.5212 - acc: 0.4679 - val_loss: 0.5209 - val_acc: 0.4684\n",
            "Epoch 15/100\n",
            "60000/60000 [==============================] - 2s 38us/step - loss: 0.5209 - acc: 0.4681 - val_loss: 0.5207 - val_acc: 0.4685\n",
            "Epoch 16/100\n",
            "60000/60000 [==============================] - 2s 39us/step - loss: 0.5208 - acc: 0.4682 - val_loss: 0.5206 - val_acc: 0.4686\n",
            "Epoch 17/100\n",
            "60000/60000 [==============================] - 2s 38us/step - loss: 0.5206 - acc: 0.4684 - val_loss: 0.5204 - val_acc: 0.4687\n",
            "Epoch 18/100\n",
            "60000/60000 [==============================] - 2s 38us/step - loss: 0.5205 - acc: 0.4685 - val_loss: 0.5204 - val_acc: 0.4688\n",
            "Epoch 19/100\n",
            "60000/60000 [==============================] - 2s 38us/step - loss: 0.5203 - acc: 0.4686 - val_loss: 0.5202 - val_acc: 0.4689\n",
            "Epoch 20/100\n",
            "60000/60000 [==============================] - 2s 38us/step - loss: 0.5202 - acc: 0.4686 - val_loss: 0.5200 - val_acc: 0.4690\n",
            "Epoch 21/100\n",
            "60000/60000 [==============================] - 2s 38us/step - loss: 0.5201 - acc: 0.4687 - val_loss: 0.5200 - val_acc: 0.4691\n",
            "Epoch 22/100\n",
            "60000/60000 [==============================] - 2s 38us/step - loss: 0.5200 - acc: 0.4688 - val_loss: 0.5199 - val_acc: 0.4692\n",
            "Epoch 23/100\n",
            "60000/60000 [==============================] - 2s 38us/step - loss: 0.5198 - acc: 0.4689 - val_loss: 0.5197 - val_acc: 0.4692\n",
            "Epoch 24/100\n",
            "60000/60000 [==============================] - 2s 38us/step - loss: 0.5197 - acc: 0.4690 - val_loss: 0.5196 - val_acc: 0.4693\n",
            "Epoch 25/100\n",
            "60000/60000 [==============================] - 2s 39us/step - loss: 0.5196 - acc: 0.4691 - val_loss: 0.5197 - val_acc: 0.4694\n",
            "Epoch 26/100\n",
            "60000/60000 [==============================] - 2s 38us/step - loss: 0.5195 - acc: 0.4692 - val_loss: 0.5195 - val_acc: 0.4694\n",
            "Epoch 27/100\n",
            "60000/60000 [==============================] - 2s 38us/step - loss: 0.5194 - acc: 0.4692 - val_loss: 0.5195 - val_acc: 0.4694\n",
            "Epoch 28/100\n",
            "60000/60000 [==============================] - 2s 38us/step - loss: 0.5193 - acc: 0.4693 - val_loss: 0.5193 - val_acc: 0.4696\n",
            "Epoch 29/100\n",
            "60000/60000 [==============================] - 2s 39us/step - loss: 0.5193 - acc: 0.4694 - val_loss: 0.5192 - val_acc: 0.4696\n",
            "Epoch 30/100\n",
            "60000/60000 [==============================] - 2s 39us/step - loss: 0.5192 - acc: 0.4694 - val_loss: 0.5192 - val_acc: 0.4696\n",
            "Epoch 31/100\n",
            "60000/60000 [==============================] - 2s 38us/step - loss: 0.5191 - acc: 0.4695 - val_loss: 0.5192 - val_acc: 0.4696\n",
            "Epoch 32/100\n",
            "60000/60000 [==============================] - 2s 39us/step - loss: 0.5190 - acc: 0.4695 - val_loss: 0.5191 - val_acc: 0.4698\n",
            "Epoch 33/100\n",
            "60000/60000 [==============================] - 2s 38us/step - loss: 0.5190 - acc: 0.4695 - val_loss: 0.5190 - val_acc: 0.4698\n",
            "Epoch 34/100\n",
            "60000/60000 [==============================] - 2s 38us/step - loss: 0.5189 - acc: 0.4696 - val_loss: 0.5189 - val_acc: 0.4698\n",
            "Epoch 35/100\n",
            "60000/60000 [==============================] - 2s 38us/step - loss: 0.5188 - acc: 0.4696 - val_loss: 0.5189 - val_acc: 0.4699\n",
            "Epoch 36/100\n",
            "60000/60000 [==============================] - 2s 38us/step - loss: 0.5188 - acc: 0.4697 - val_loss: 0.5189 - val_acc: 0.4698\n",
            "Epoch 37/100\n",
            "60000/60000 [==============================] - 2s 38us/step - loss: 0.5187 - acc: 0.4697 - val_loss: 0.5189 - val_acc: 0.4699\n",
            "Epoch 38/100\n",
            "60000/60000 [==============================] - 2s 39us/step - loss: 0.5187 - acc: 0.4697 - val_loss: 0.5188 - val_acc: 0.4700\n",
            "Epoch 39/100\n",
            "60000/60000 [==============================] - 2s 38us/step - loss: 0.5186 - acc: 0.4698 - val_loss: 0.5187 - val_acc: 0.4700\n",
            "Epoch 40/100\n",
            "60000/60000 [==============================] - 2s 38us/step - loss: 0.5186 - acc: 0.4698 - val_loss: 0.5187 - val_acc: 0.4701\n",
            "Epoch 41/100\n",
            "60000/60000 [==============================] - 2s 39us/step - loss: 0.5185 - acc: 0.4698 - val_loss: 0.5186 - val_acc: 0.4701\n",
            "Epoch 42/100\n",
            "60000/60000 [==============================] - 2s 38us/step - loss: 0.5185 - acc: 0.4699 - val_loss: 0.5187 - val_acc: 0.4701\n",
            "Epoch 43/100\n",
            "60000/60000 [==============================] - 2s 38us/step - loss: 0.5184 - acc: 0.4699 - val_loss: 0.5186 - val_acc: 0.4702\n",
            "Epoch 44/100\n",
            "60000/60000 [==============================] - 2s 38us/step - loss: 0.5184 - acc: 0.4699 - val_loss: 0.5186 - val_acc: 0.4701\n",
            "Epoch 45/100\n",
            "60000/60000 [==============================] - 2s 38us/step - loss: 0.5184 - acc: 0.4700 - val_loss: 0.5185 - val_acc: 0.4702\n",
            "Epoch 46/100\n",
            "60000/60000 [==============================] - 2s 38us/step - loss: 0.5183 - acc: 0.4700 - val_loss: 0.5185 - val_acc: 0.4702\n",
            "Epoch 47/100\n",
            "60000/60000 [==============================] - 2s 38us/step - loss: 0.5183 - acc: 0.4700 - val_loss: 0.5184 - val_acc: 0.4702\n",
            "Epoch 48/100\n",
            "60000/60000 [==============================] - 2s 38us/step - loss: 0.5182 - acc: 0.4701 - val_loss: 0.5184 - val_acc: 0.4703\n",
            "Epoch 49/100\n",
            "60000/60000 [==============================] - 2s 38us/step - loss: 0.5182 - acc: 0.4701 - val_loss: 0.5185 - val_acc: 0.4702\n",
            "Epoch 50/100\n",
            "60000/60000 [==============================] - 2s 38us/step - loss: 0.5182 - acc: 0.4701 - val_loss: 0.5184 - val_acc: 0.4703\n",
            "Epoch 51/100\n",
            "60000/60000 [==============================] - 2s 39us/step - loss: 0.5181 - acc: 0.4701 - val_loss: 0.5183 - val_acc: 0.4704\n",
            "Epoch 52/100\n",
            "60000/60000 [==============================] - 2s 38us/step - loss: 0.5181 - acc: 0.4701 - val_loss: 0.5183 - val_acc: 0.4703\n",
            "Epoch 53/100\n",
            "60000/60000 [==============================] - 2s 38us/step - loss: 0.5181 - acc: 0.4702 - val_loss: 0.5182 - val_acc: 0.4704\n",
            "Epoch 54/100\n",
            "60000/60000 [==============================] - 2s 38us/step - loss: 0.5180 - acc: 0.4702 - val_loss: 0.5182 - val_acc: 0.4704\n",
            "Epoch 55/100\n",
            "60000/60000 [==============================] - 2s 38us/step - loss: 0.5180 - acc: 0.4702 - val_loss: 0.5182 - val_acc: 0.4705\n",
            "Epoch 56/100\n",
            "60000/60000 [==============================] - 2s 38us/step - loss: 0.5180 - acc: 0.4702 - val_loss: 0.5182 - val_acc: 0.4704\n",
            "Epoch 57/100\n",
            "60000/60000 [==============================] - 2s 38us/step - loss: 0.5179 - acc: 0.4703 - val_loss: 0.5182 - val_acc: 0.4704\n",
            "Epoch 58/100\n",
            "60000/60000 [==============================] - 2s 38us/step - loss: 0.5179 - acc: 0.4703 - val_loss: 0.5181 - val_acc: 0.4705\n",
            "Epoch 59/100\n",
            "60000/60000 [==============================] - 2s 38us/step - loss: 0.5179 - acc: 0.4703 - val_loss: 0.5181 - val_acc: 0.4705\n",
            "Epoch 60/100\n",
            "60000/60000 [==============================] - 2s 38us/step - loss: 0.5179 - acc: 0.4703 - val_loss: 0.5181 - val_acc: 0.4705\n",
            "Epoch 61/100\n",
            "60000/60000 [==============================] - 2s 38us/step - loss: 0.5178 - acc: 0.4703 - val_loss: 0.5181 - val_acc: 0.4705\n",
            "Epoch 62/100\n",
            "60000/60000 [==============================] - 2s 38us/step - loss: 0.5178 - acc: 0.4703 - val_loss: 0.5181 - val_acc: 0.4705\n",
            "Epoch 63/100\n",
            "60000/60000 [==============================] - 2s 39us/step - loss: 0.5178 - acc: 0.4704 - val_loss: 0.5180 - val_acc: 0.4706\n",
            "Epoch 64/100\n",
            "60000/60000 [==============================] - 2s 40us/step - loss: 0.5178 - acc: 0.4704 - val_loss: 0.5180 - val_acc: 0.4706\n",
            "Epoch 65/100\n",
            "60000/60000 [==============================] - 2s 40us/step - loss: 0.5177 - acc: 0.4704 - val_loss: 0.5179 - val_acc: 0.4707\n",
            "Epoch 66/100\n",
            "60000/60000 [==============================] - 2s 40us/step - loss: 0.5177 - acc: 0.4704 - val_loss: 0.5180 - val_acc: 0.4706\n",
            "Epoch 67/100\n",
            "60000/60000 [==============================] - 2s 40us/step - loss: 0.5177 - acc: 0.4705 - val_loss: 0.5179 - val_acc: 0.4706\n",
            "Epoch 68/100\n",
            "60000/60000 [==============================] - 2s 39us/step - loss: 0.5176 - acc: 0.4705 - val_loss: 0.5180 - val_acc: 0.4706\n",
            "Epoch 69/100\n",
            "60000/60000 [==============================] - 2s 40us/step - loss: 0.5176 - acc: 0.4705 - val_loss: 0.5179 - val_acc: 0.4706\n",
            "Epoch 70/100\n",
            "60000/60000 [==============================] - 2s 40us/step - loss: 0.5176 - acc: 0.4705 - val_loss: 0.5179 - val_acc: 0.4707\n",
            "Epoch 71/100\n",
            "60000/60000 [==============================] - 2s 40us/step - loss: 0.5175 - acc: 0.4705 - val_loss: 0.5178 - val_acc: 0.4707\n",
            "Epoch 72/100\n",
            "60000/60000 [==============================] - 2s 40us/step - loss: 0.5175 - acc: 0.4706 - val_loss: 0.5178 - val_acc: 0.4708\n",
            "Epoch 73/100\n",
            "60000/60000 [==============================] - 2s 40us/step - loss: 0.5175 - acc: 0.4706 - val_loss: 0.5178 - val_acc: 0.4708\n",
            "Epoch 74/100\n",
            "60000/60000 [==============================] - 2s 40us/step - loss: 0.5175 - acc: 0.4706 - val_loss: 0.5178 - val_acc: 0.4707\n",
            "Epoch 75/100\n",
            "60000/60000 [==============================] - 2s 41us/step - loss: 0.5174 - acc: 0.4706 - val_loss: 0.5177 - val_acc: 0.4708\n",
            "Epoch 76/100\n",
            "60000/60000 [==============================] - 2s 39us/step - loss: 0.5174 - acc: 0.4707 - val_loss: 0.5177 - val_acc: 0.4708\n",
            "Epoch 77/100\n",
            "60000/60000 [==============================] - 2s 40us/step - loss: 0.5174 - acc: 0.4707 - val_loss: 0.5177 - val_acc: 0.4708\n",
            "Epoch 78/100\n",
            "60000/60000 [==============================] - 2s 40us/step - loss: 0.5174 - acc: 0.4707 - val_loss: 0.5176 - val_acc: 0.4709\n",
            "Epoch 79/100\n",
            "60000/60000 [==============================] - 2s 40us/step - loss: 0.5173 - acc: 0.4707 - val_loss: 0.5176 - val_acc: 0.4709\n",
            "Epoch 80/100\n",
            "60000/60000 [==============================] - 2s 39us/step - loss: 0.5173 - acc: 0.4707 - val_loss: 0.5176 - val_acc: 0.4709\n",
            "Epoch 81/100\n",
            "60000/60000 [==============================] - 2s 39us/step - loss: 0.5173 - acc: 0.4707 - val_loss: 0.5176 - val_acc: 0.4709\n",
            "Epoch 82/100\n",
            "60000/60000 [==============================] - 2s 39us/step - loss: 0.5173 - acc: 0.4708 - val_loss: 0.5176 - val_acc: 0.4709\n",
            "Epoch 83/100\n",
            "60000/60000 [==============================] - 2s 38us/step - loss: 0.5172 - acc: 0.4708 - val_loss: 0.5176 - val_acc: 0.4709\n",
            "Epoch 84/100\n",
            "60000/60000 [==============================] - 2s 39us/step - loss: 0.5172 - acc: 0.4708 - val_loss: 0.5176 - val_acc: 0.4709\n",
            "Epoch 85/100\n",
            "60000/60000 [==============================] - 2s 39us/step - loss: 0.5172 - acc: 0.4708 - val_loss: 0.5175 - val_acc: 0.4710\n",
            "Epoch 86/100\n",
            "60000/60000 [==============================] - 2s 39us/step - loss: 0.5172 - acc: 0.4708 - val_loss: 0.5175 - val_acc: 0.4710\n",
            "Epoch 87/100\n",
            "60000/60000 [==============================] - 2s 40us/step - loss: 0.5171 - acc: 0.4709 - val_loss: 0.5175 - val_acc: 0.4710\n",
            "Epoch 88/100\n",
            "60000/60000 [==============================] - 2s 40us/step - loss: 0.5171 - acc: 0.4709 - val_loss: 0.5175 - val_acc: 0.4710\n",
            "Epoch 89/100\n",
            "60000/60000 [==============================] - 2s 39us/step - loss: 0.5171 - acc: 0.4709 - val_loss: 0.5175 - val_acc: 0.4710\n",
            "Epoch 90/100\n",
            "60000/60000 [==============================] - 2s 40us/step - loss: 0.5171 - acc: 0.4709 - val_loss: 0.5174 - val_acc: 0.4710\n",
            "Epoch 91/100\n",
            "60000/60000 [==============================] - 2s 40us/step - loss: 0.5170 - acc: 0.4709 - val_loss: 0.5174 - val_acc: 0.4711\n",
            "Epoch 92/100\n",
            "60000/60000 [==============================] - 2s 40us/step - loss: 0.5170 - acc: 0.4709 - val_loss: 0.5175 - val_acc: 0.4710\n",
            "Epoch 93/100\n",
            "60000/60000 [==============================] - 2s 39us/step - loss: 0.5170 - acc: 0.4710 - val_loss: 0.5174 - val_acc: 0.4710\n",
            "Epoch 94/100\n",
            "60000/60000 [==============================] - 2s 39us/step - loss: 0.5170 - acc: 0.4710 - val_loss: 0.5173 - val_acc: 0.4711\n",
            "Epoch 95/100\n",
            "60000/60000 [==============================] - 2s 39us/step - loss: 0.5170 - acc: 0.4710 - val_loss: 0.5173 - val_acc: 0.4711\n",
            "Epoch 96/100\n",
            "60000/60000 [==============================] - 2s 39us/step - loss: 0.5169 - acc: 0.4710 - val_loss: 0.5174 - val_acc: 0.4711\n",
            "Epoch 97/100\n",
            "60000/60000 [==============================] - 2s 39us/step - loss: 0.5169 - acc: 0.4710 - val_loss: 0.5173 - val_acc: 0.4712\n",
            "Epoch 98/100\n",
            "60000/60000 [==============================] - 2s 39us/step - loss: 0.5169 - acc: 0.4710 - val_loss: 0.5173 - val_acc: 0.4711\n",
            "Epoch 99/100\n",
            "60000/60000 [==============================] - 2s 40us/step - loss: 0.5169 - acc: 0.4710 - val_loss: 0.5173 - val_acc: 0.4711\n",
            "Epoch 100/100\n",
            "60000/60000 [==============================] - 2s 39us/step - loss: 0.5169 - acc: 0.4711 - val_loss: 0.5172 - val_acc: 0.4712\n"
          ],
          "name": "stdout"
        },
        {
          "output_type": "display_data",
          "data": {
            "image/png": "[encoded data removed]",
            "text/plain": [
              "<Figure size 2880x288 with 40 Axes>"
            ]
          },
          "metadata": {
            "tags": []
          }
        }
      ]
    },
    {
      "cell_type": "markdown",
      "metadata": {
        "id": "fp7ymVSpo8NY",
        "colab_type": "text"
      },
      "source": [
        "testing \n"
      ]
    },
    {
      "cell_type": "code",
      "metadata": {
        "id": "zw0kSANpykil",
        "colab_type": "code",
        "outputId": "24448c8b-bf5e-4e78-b15e-0f248fa6a221",
        "colab": {
          "base_uri": "https://localhost:8080/",
          "height": 974
        }
      },
      "source": [
        "from __future__ import print_function\n",
        "import keras\n",
        "from keras.datasets import mnist\n",
        "from keras.models import Sequential\n",
        "from keras.layers import Dense, Dropout, Flatten,BatchNormalization\n",
        "from keras.layers import Conv2D, MaxPooling2D\n",
        "from keras import backend as K\n",
        "\n",
        "batch_size = 128\n",
        "num_classes = 10\n",
        "epochs = 12\n",
        "\n",
        "# input image dimensions\n",
        "img_rows, img_cols = 28, 28\n",
        "\n",
        "# the data, split between train and test sets\n",
        "(x_train, y_train), (x_test, y_test) = mnist.load_data()\n",
        "\n",
        "if K.image_data_format() == 'channels_first':\n",
        "    x_train = x_train.reshape(x_train.shape[0], 1, img_rows, img_cols)\n",
        "    x_test = x_test.reshape(x_test.shape[0], 1, img_rows, img_cols)\n",
        "    input_shape = (1, img_rows, img_cols)\n",
        "else:\n",
        "    x_train = x_train.reshape(x_train.shape[0], img_rows, img_cols, 1)\n",
        "    x_test = x_test.reshape(x_test.shape[0], img_rows, img_cols, 1)\n",
        "    input_shape = (img_rows, img_cols, 1)\n",
        "\n",
        "x_train = x_train.astype('float32')\n",
        "x_test = x_test.astype('float32')\n",
        "x_train /= 255\n",
        "x_test /= 255\n",
        "print('x_train shape:', x_train.shape)\n",
        "print(x_train.shape[0], 'train samples')\n",
        "print(x_test.shape[0], 'test samples')\n",
        "\n",
        "# convert class vectors to binary class matrices\n",
        "y_train = keras.utils.to_categorical(y_train, num_classes)\n",
        "y_test = keras.utils.to_categorical(y_test, num_classes)\n",
        "\n",
        "model = Sequential()\n",
        "model.add(BatchNormalization())\n",
        "model.add(Conv2D(32, kernel_size=(3, 3),\n",
        "                 activation='relu',\n",
        "                 input_shape=input_shape))\n",
        "model.add(Conv2D(64, (3, 3), activation='relu'))\n",
        "\n",
        "model.add(Conv2D(128, (3, 3), activation='relu'))\n",
        "model.add(MaxPooling2D(pool_size=(2, 2)))\n",
        "\n",
        "model.add(Dropout(0.25))\n",
        "model.add(Flatten())\n",
        "model.add(Dense(128, activation='relu'))\n",
        "model.add(Dropout(0.5))\n",
        "model.add(Dense(num_classes, activation='softmax'))\n",
        "\n",
        "\n",
        "\n",
        "model.compile(loss=keras.losses.categorical_crossentropy,\n",
        "              optimizer=keras.optimizers.Adam(),\n",
        "              metrics=['accuracy'])\n",
        "\n",
        "model.build((None, img_rows, img_cols, 1))\n",
        "model.summary()\n",
        "\n",
        "history = model.fit(x_train, y_train,\n",
        "          batch_size=batch_size,\n",
        "          epochs=epochs,\n",
        "          verbose=1,\n",
        "          validation_data=(x_test, y_test))\n",
        "score = model.evaluate(x_test, y_test, verbose=0)\n",
        "print('Test loss:', score[0])\n",
        "print('Test accuracy:', score[1])\n"
      ],
      "execution_count": 66,
      "outputs": [
        {
          "output_type": "stream",
          "text": [
            "x_train shape: (60000, 28, 28, 1)\n",
            "60000 train samples\n",
            "10000 test samples\n",
            "_________________________________________________________________\n",
            "Layer (type)                 Output Shape              Param #   \n",
            "=================================================================\n",
            "batch_normalization_7 (Batch (None, 28, 28, 1)         4         \n",
            "_________________________________________________________________\n",
            "conv2d_14 (Conv2D)           (None, 26, 26, 32)        320       \n",
            "_________________________________________________________________\n",
            "conv2d_15 (Conv2D)           (None, 24, 24, 64)        18496     \n",
            "_________________________________________________________________\n",
            "conv2d_16 (Conv2D)           (None, 22, 22, 128)       73856     \n",
            "_________________________________________________________________\n",
            "max_pooling2d_8 (MaxPooling2 (None, 11, 11, 128)       0         \n",
            "_________________________________________________________________\n",
            "dropout_13 (Dropout)         (None, 11, 11, 128)       0         \n",
            "_________________________________________________________________\n",
            "flatten_7 (Flatten)          (None, 15488)             0         \n",
            "_________________________________________________________________\n",
            "dense_71 (Dense)             (None, 128)               1982592   \n",
            "_________________________________________________________________\n",
            "dropout_14 (Dropout)         (None, 128)               0         \n",
            "_________________________________________________________________\n",
            "dense_72 (Dense)             (None, 10)                1290      \n",
            "=================================================================\n",
            "Total params: 2,076,558\n",
            "Trainable params: 2,076,556\n",
            "Non-trainable params: 2\n",
            "_________________________________________________________________\n",
            "Train on 60000 samples, validate on 10000 samples\n",
            "Epoch 1/12\n",
            "60000/60000 [==============================] - 20s 325us/step - loss: 0.1928 - acc: 0.9410 - val_loss: 0.0390 - val_acc: 0.9870\n",
            "Epoch 2/12\n",
            "60000/60000 [==============================] - 17s 291us/step - loss: 0.0720 - acc: 0.9786 - val_loss: 0.0324 - val_acc: 0.9898\n",
            "Epoch 3/12\n",
            "60000/60000 [==============================] - 17s 291us/step - loss: 0.0553 - acc: 0.9835 - val_loss: 0.0283 - val_acc: 0.9914\n",
            "Epoch 4/12\n",
            "60000/60000 [==============================] - 17s 291us/step - loss: 0.0437 - acc: 0.9872 - val_loss: 0.0290 - val_acc: 0.9906\n",
            "Epoch 5/12\n",
            "60000/60000 [==============================] - 17s 291us/step - loss: 0.0341 - acc: 0.9899 - val_loss: 0.0259 - val_acc: 0.9920\n",
            "Epoch 6/12\n",
            "60000/60000 [==============================] - 17s 291us/step - loss: 0.0318 - acc: 0.9905 - val_loss: 0.0232 - val_acc: 0.9928\n",
            "Epoch 7/12\n",
            "60000/60000 [==============================] - 18s 292us/step - loss: 0.0253 - acc: 0.9922 - val_loss: 0.0246 - val_acc: 0.9933\n",
            "Epoch 8/12\n",
            "60000/60000 [==============================] - 18s 294us/step - loss: 0.0228 - acc: 0.9930 - val_loss: 0.0250 - val_acc: 0.9937\n",
            "Epoch 9/12\n",
            "60000/60000 [==============================] - 18s 296us/step - loss: 0.0214 - acc: 0.9932 - val_loss: 0.0271 - val_acc: 0.9918\n",
            "Epoch 10/12\n",
            "60000/60000 [==============================] - 18s 295us/step - loss: 0.0206 - acc: 0.9935 - val_loss: 0.0220 - val_acc: 0.9939\n",
            "Epoch 11/12\n",
            "60000/60000 [==============================] - 18s 295us/step - loss: 0.0179 - acc: 0.9942 - val_loss: 0.0280 - val_acc: 0.9927\n",
            "Epoch 12/12\n",
            "60000/60000 [==============================] - 18s 294us/step - loss: 0.0178 - acc: 0.9940 - val_loss: 0.0245 - val_acc: 0.9937\n",
            "Test loss: 0.024533010251248332\n",
            "Test accuracy: 0.9937\n"
          ],
          "name": "stdout"
        }
      ]
    },
    {
      "cell_type": "code",
      "metadata": {
        "id": "fd3MoUaJ3YPM",
        "colab_type": "code",
        "colab": {
          "base_uri": "https://localhost:8080/",
          "height": 1000
        },
        "outputId": "edd2876c-674c-42c0-f6aa-eb4c3ecae816"
      },
      "source": [
        "from __future__ import print_function\n",
        "import keras\n",
        "from keras.datasets import mnist\n",
        "from keras.models import Sequential\n",
        "from keras.layers import Dense, Dropout, Flatten,BatchNormalization\n",
        "from keras.layers import Conv2D, MaxPooling2D\n",
        "from keras import backend as K\n",
        "\n",
        "batch_size = 128\n",
        "num_classes = 10\n",
        "epochs = 12\n",
        "\n",
        "# input image dimensions\n",
        "img_rows, img_cols = 28, 28\n",
        "\n",
        "# the data, split between train and test sets\n",
        "(x_train, y_train), (x_test, y_test) = mnist.load_data()\n",
        "\n",
        "if K.image_data_format() == 'channels_first':\n",
        "    x_train = x_train.reshape(x_train.shape[0], 1, img_rows, img_cols)\n",
        "    x_test = x_test.reshape(x_test.shape[0], 1, img_rows, img_cols)\n",
        "    input_shape = (1, img_rows, img_cols)\n",
        "else:\n",
        "    x_train = x_train.reshape(x_train.shape[0], img_rows, img_cols, 1)\n",
        "    x_test = x_test.reshape(x_test.shape[0], img_rows, img_cols, 1)\n",
        "    input_shape = (img_rows, img_cols, 1)\n",
        "\n",
        "x_train = x_train.astype('float32')\n",
        "x_test = x_test.astype('float32')\n",
        "x_train /= 255\n",
        "x_test /= 255\n",
        "print('x_train shape:', x_train.shape)\n",
        "print(x_train.shape[0], 'train samples')\n",
        "print(x_test.shape[0], 'test samples')\n",
        "\n",
        "# convert class vectors to binary class matrices\n",
        "y_train = keras.utils.to_categorical(y_train, num_classes)\n",
        "y_test = keras.utils.to_categorical(y_test, num_classes)\n",
        "\n",
        "model = Sequential()\n",
        "model.add(BatchNormalization())\n",
        "model.add(Conv2D(32, kernel_size=(3, 3),\n",
        "                 activation='relu',\n",
        "                 input_shape=input_shape))\n",
        "model.add(Conv2D(64, (3, 3), activation='relu'))\n",
        "\n",
        "model.add(Conv2D(128, (3, 3), activation='relu'))\n",
        "\n",
        "model.add(Conv2D(256, (3, 3), activation='relu'))\n",
        "model.add(MaxPooling2D(pool_size=(2, 2)))\n",
        "\n",
        "model.add(Dropout(0.25))\n",
        "model.add(Flatten())\n",
        "model.add(Dense(128, activation='relu'))\n",
        "model.add(Dropout(0.5))\n",
        "model.add(Dense(num_classes, activation='softmax'))\n",
        "\n",
        "\n",
        "\n",
        "model.compile(loss=keras.losses.categorical_crossentropy,\n",
        "              optimizer=keras.optimizers.Adam(),\n",
        "              metrics=['accuracy'])\n",
        "\n",
        "model.build((None, img_rows, img_cols, 1))\n",
        "model.summary()\n",
        "\n",
        "history = model.fit(x_train, y_train,\n",
        "          batch_size=batch_size,\n",
        "          epochs=epochs,\n",
        "          verbose=1,\n",
        "          validation_data=(x_test, y_test))\n",
        "score = model.evaluate(x_test, y_test, verbose=0)\n",
        "print('Test loss:', score[0])\n",
        "print('Test accuracy:', score[1])\n"
      ],
      "execution_count": 67,
      "outputs": [
        {
          "output_type": "stream",
          "text": [
            "x_train shape: (60000, 28, 28, 1)\n",
            "60000 train samples\n",
            "10000 test samples\n",
            "_________________________________________________________________\n",
            "Layer (type)                 Output Shape              Param #   \n",
            "=================================================================\n",
            "batch_normalization_8 (Batch (None, 28, 28, 1)         4         \n",
            "_________________________________________________________________\n",
            "conv2d_17 (Conv2D)           (None, 26, 26, 32)        320       \n",
            "_________________________________________________________________\n",
            "conv2d_18 (Conv2D)           (None, 24, 24, 64)        18496     \n",
            "_________________________________________________________________\n",
            "conv2d_19 (Conv2D)           (None, 22, 22, 128)       73856     \n",
            "_________________________________________________________________\n",
            "conv2d_20 (Conv2D)           (None, 20, 20, 256)       295168    \n",
            "_________________________________________________________________\n",
            "max_pooling2d_9 (MaxPooling2 (None, 10, 10, 256)       0         \n",
            "_________________________________________________________________\n",
            "dropout_15 (Dropout)         (None, 10, 10, 256)       0         \n",
            "_________________________________________________________________\n",
            "flatten_8 (Flatten)          (None, 25600)             0         \n",
            "_________________________________________________________________\n",
            "dense_73 (Dense)             (None, 128)               3276928   \n",
            "_________________________________________________________________\n",
            "dropout_16 (Dropout)         (None, 128)               0         \n",
            "_________________________________________________________________\n",
            "dense_74 (Dense)             (None, 10)                1290      \n",
            "=================================================================\n",
            "Total params: 3,666,062\n",
            "Trainable params: 3,666,060\n",
            "Non-trainable params: 2\n",
            "_________________________________________________________________\n",
            "Train on 60000 samples, validate on 10000 samples\n",
            "Epoch 1/12\n",
            "60000/60000 [==============================] - 35s 581us/step - loss: 0.2159 - acc: 0.9348 - val_loss: 0.0470 - val_acc: 0.9842\n",
            "Epoch 2/12\n",
            "60000/60000 [==============================] - 32s 536us/step - loss: 0.0733 - acc: 0.9788 - val_loss: 0.0270 - val_acc: 0.9909\n",
            "Epoch 3/12\n",
            "60000/60000 [==============================] - 32s 537us/step - loss: 0.0551 - acc: 0.9841 - val_loss: 0.0257 - val_acc: 0.9913\n",
            "Epoch 4/12\n",
            "60000/60000 [==============================] - 32s 539us/step - loss: 0.0438 - acc: 0.9871 - val_loss: 0.0302 - val_acc: 0.9904\n",
            "Epoch 5/12\n",
            "60000/60000 [==============================] - 32s 541us/step - loss: 0.0337 - acc: 0.9896 - val_loss: 0.0236 - val_acc: 0.9928\n",
            "Epoch 6/12\n",
            "60000/60000 [==============================] - 32s 538us/step - loss: 0.0326 - acc: 0.9897 - val_loss: 0.0199 - val_acc: 0.9938\n",
            "Epoch 7/12\n",
            "60000/60000 [==============================] - 32s 539us/step - loss: 0.0266 - acc: 0.9917 - val_loss: 0.0208 - val_acc: 0.9934\n",
            "Epoch 8/12\n",
            "60000/60000 [==============================] - 32s 535us/step - loss: 0.0233 - acc: 0.9928 - val_loss: 0.0180 - val_acc: 0.9945\n",
            "Epoch 9/12\n",
            "60000/60000 [==============================] - 32s 534us/step - loss: 0.0219 - acc: 0.9930 - val_loss: 0.0207 - val_acc: 0.9948\n",
            "Epoch 10/12\n",
            "60000/60000 [==============================] - 32s 533us/step - loss: 0.0212 - acc: 0.9935 - val_loss: 0.0216 - val_acc: 0.9951\n",
            "Epoch 11/12\n",
            "60000/60000 [==============================] - 32s 534us/step - loss: 0.0192 - acc: 0.9940 - val_loss: 0.0271 - val_acc: 0.9928\n",
            "Epoch 12/12\n",
            "60000/60000 [==============================] - 32s 536us/step - loss: 0.0166 - acc: 0.9948 - val_loss: 0.0218 - val_acc: 0.9943\n",
            "Test loss: 0.021815070960219417\n",
            "Test accuracy: 0.9943\n"
          ],
          "name": "stdout"
        }
      ]
    },
    {
      "cell_type": "code",
      "metadata": {
        "id": "OJRcoib8a9rY",
        "colab_type": "code",
        "colab": {
          "base_uri": "https://localhost:8080/",
          "height": 907
        },
        "outputId": "27932e21-3928-4207-823f-c0dd08cb6b7c"
      },
      "source": [
        "from __future__ import print_function\n",
        "import keras\n",
        "from keras.datasets import mnist\n",
        "from keras.models import Sequential\n",
        "from keras.layers import Dense, Dropout, Flatten,BatchNormalization\n",
        "from keras.layers import Conv2D, MaxPooling2D\n",
        "from keras import backend as K\n",
        "\n",
        "batch_size = 128\n",
        "num_classes = 10\n",
        "epochs = 12\n",
        "\n",
        "# input image dimensions\n",
        "img_rows, img_cols = 28, 28\n",
        "\n",
        "# the data, split between train and test sets\n",
        "(x_train, y_train), (x_test, y_test) = mnist.load_data()\n",
        "\n",
        "if K.image_data_format() == 'channels_first':\n",
        "    x_train = x_train.reshape(x_train.shape[0], 1, img_rows, img_cols)\n",
        "    x_test = x_test.reshape(x_test.shape[0], 1, img_rows, img_cols)\n",
        "    input_shape = (1, img_rows, img_cols)\n",
        "else:\n",
        "    x_train = x_train.reshape(x_train.shape[0], img_rows, img_cols, 1)\n",
        "    x_test = x_test.reshape(x_test.shape[0], img_rows, img_cols, 1)\n",
        "    input_shape = (img_rows, img_cols, 1)\n",
        "\n",
        "x_train = x_train.astype('float32')\n",
        "x_test = x_test.astype('float32')\n",
        "x_train /= 255\n",
        "x_test /= 255\n",
        "print('x_train shape:', x_train.shape)\n",
        "print(x_train.shape[0], 'train samples')\n",
        "print(x_test.shape[0], 'test samples')\n",
        "\n",
        "# convert class vectors to binary class matrices\n",
        "y_train = keras.utils.to_categorical(y_train, num_classes)\n",
        "y_test = keras.utils.to_categorical(y_test, num_classes)\n",
        "\n",
        "model = Sequential()\n",
        "model.add(BatchNormalization())\n",
        "model.add(Conv2D(32, kernel_size=(3, 3),\n",
        "                 activation='relu',\n",
        "                 input_shape=input_shape))\n",
        "\n",
        "model.add(MaxPooling2D(pool_size=(2, 2)))\n",
        "\n",
        "model.add(Dropout(0.25))\n",
        "model.add(Flatten())\n",
        "model.add(Dense(128, activation='relu'))\n",
        "model.add(Dropout(0.5))\n",
        "model.add(Dense(num_classes, activation='softmax'))\n",
        "\n",
        "\n",
        "\n",
        "model.compile(loss=keras.losses.categorical_crossentropy,\n",
        "              optimizer=keras.optimizers.Adam(),\n",
        "              metrics=['accuracy'])\n",
        "\n",
        "model.build((None, img_rows, img_cols, 1))\n",
        "model.summary()\n",
        "\n",
        "history = model.fit(x_train, y_train,\n",
        "          batch_size=batch_size,\n",
        "          epochs=epochs,\n",
        "          verbose=1,\n",
        "          validation_data=(x_test, y_test))\n",
        "score = model.evaluate(x_test, y_test, verbose=0)\n",
        "print('Test loss:', score[0])\n",
        "print('Test accuracy:', score[1])\n"
      ],
      "execution_count": 68,
      "outputs": [
        {
          "output_type": "stream",
          "text": [
            "x_train shape: (60000, 28, 28, 1)\n",
            "60000 train samples\n",
            "10000 test samples\n",
            "_________________________________________________________________\n",
            "Layer (type)                 Output Shape              Param #   \n",
            "=================================================================\n",
            "batch_normalization_9 (Batch (None, 28, 28, 1)         4         \n",
            "_________________________________________________________________\n",
            "conv2d_21 (Conv2D)           (None, 26, 26, 32)        320       \n",
            "_________________________________________________________________\n",
            "max_pooling2d_10 (MaxPooling (None, 13, 13, 32)        0         \n",
            "_________________________________________________________________\n",
            "dropout_17 (Dropout)         (None, 13, 13, 32)        0         \n",
            "_________________________________________________________________\n",
            "flatten_9 (Flatten)          (None, 5408)              0         \n",
            "_________________________________________________________________\n",
            "dense_75 (Dense)             (None, 128)               692352    \n",
            "_________________________________________________________________\n",
            "dropout_18 (Dropout)         (None, 128)               0         \n",
            "_________________________________________________________________\n",
            "dense_76 (Dense)             (None, 10)                1290      \n",
            "=================================================================\n",
            "Total params: 693,966\n",
            "Trainable params: 693,964\n",
            "Non-trainable params: 2\n",
            "_________________________________________________________________\n",
            "Train on 60000 samples, validate on 10000 samples\n",
            "Epoch 1/12\n",
            "60000/60000 [==============================] - 8s 129us/step - loss: 0.2986 - acc: 0.9086 - val_loss: 0.0759 - val_acc: 0.9753\n",
            "Epoch 2/12\n",
            "60000/60000 [==============================] - 6s 96us/step - loss: 0.1278 - acc: 0.9625 - val_loss: 0.0548 - val_acc: 0.9819\n",
            "Epoch 3/12\n",
            "60000/60000 [==============================] - 6s 96us/step - loss: 0.0980 - acc: 0.9702 - val_loss: 0.0488 - val_acc: 0.9836\n",
            "Epoch 4/12\n",
            "60000/60000 [==============================] - 6s 98us/step - loss: 0.0846 - acc: 0.9741 - val_loss: 0.0419 - val_acc: 0.9851\n",
            "Epoch 5/12\n",
            "60000/60000 [==============================] - 6s 96us/step - loss: 0.0731 - acc: 0.9774 - val_loss: 0.0399 - val_acc: 0.9869\n",
            "Epoch 6/12\n",
            "60000/60000 [==============================] - 6s 95us/step - loss: 0.0657 - acc: 0.9797 - val_loss: 0.0381 - val_acc: 0.9874\n",
            "Epoch 7/12\n",
            "60000/60000 [==============================] - 6s 96us/step - loss: 0.0600 - acc: 0.9811 - val_loss: 0.0398 - val_acc: 0.9865\n",
            "Epoch 8/12\n",
            "60000/60000 [==============================] - 6s 98us/step - loss: 0.0541 - acc: 0.9833 - val_loss: 0.0380 - val_acc: 0.9873\n",
            "Epoch 9/12\n",
            "60000/60000 [==============================] - 6s 99us/step - loss: 0.0503 - acc: 0.9838 - val_loss: 0.0365 - val_acc: 0.9882\n",
            "Epoch 10/12\n",
            "60000/60000 [==============================] - 6s 99us/step - loss: 0.0462 - acc: 0.9849 - val_loss: 0.0412 - val_acc: 0.9860\n",
            "Epoch 11/12\n",
            "60000/60000 [==============================] - 6s 99us/step - loss: 0.0444 - acc: 0.9854 - val_loss: 0.0369 - val_acc: 0.9881\n",
            "Epoch 12/12\n",
            "60000/60000 [==============================] - 6s 99us/step - loss: 0.0404 - acc: 0.9865 - val_loss: 0.0356 - val_acc: 0.9883\n",
            "Test loss: 0.03561686047455951\n",
            "Test accuracy: 0.9883\n"
          ],
          "name": "stdout"
        }
      ]
    },
    {
      "cell_type": "code",
      "metadata": {
        "id": "6gbDogwXdUjj",
        "colab_type": "code",
        "colab": {}
      },
      "source": [
        ""
      ],
      "execution_count": 0,
      "outputs": []
    }
  ]
}